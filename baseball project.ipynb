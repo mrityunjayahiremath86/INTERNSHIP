{
 "cells": [
  {
   "cell_type": "code",
   "execution_count": 2,
   "id": "4625dc6e",
   "metadata": {},
   "outputs": [
    {
     "name": "stdout",
     "output_type": "stream",
     "text": [
      "RandomForest: Mean MSE: 55.1163 (±25.9441)\n",
      "LinearRegression: Mean MSE: 620.7171 (±1029.9814)\n",
      "Best model parameters: {'RandomForest__max_depth': 20, 'RandomForest__min_samples_split': 2, 'RandomForest__n_estimators': 200}\n",
      "Best model cross-validation Mean MSE: -46.5613\n"
     ]
    },
    {
     "data": {
      "text/plain": [
       "['best_model.pkl']"
      ]
     },
     "execution_count": 2,
     "metadata": {},
     "output_type": "execute_result"
    }
   ],
   "source": [
    "import pandas as pd\n",
    "from sklearn.model_selection import train_test_split\n",
    "from sklearn.preprocessing import StandardScaler\n",
    "from sklearn.metrics import mean_squared_error\n",
    "from sklearn.model_selection import cross_val_score, GridSearchCV\n",
    "from sklearn.ensemble import RandomForestRegressor\n",
    "from sklearn.linear_model import LinearRegression\n",
    "from sklearn.pipeline import Pipeline\n",
    "import joblib\n",
    "\n",
    "# Step 1: Load the data\n",
    "data_path = r\"C:\\Users\\Hiremath\\OneDrive\\Desktop\\New folder\\05.08.2023 fliprobo\\baseball.csv\"\n",
    "data = pd.read_csv(data_path)\n",
    "\n",
    "# Step 2: Exploratory Data Analysis (EDA)\n",
    "# Perform data exploration to understand the features, target variable distribution, missing values, and any other patterns in the data.\n",
    "\n",
    "# Step 3: Preprocessing and Feature Engineering\n",
    "# Handle missing values, encode categorical variables, and perform feature engineering if needed.\n",
    "\n",
    "# Step 4: Split the data into train and test sets\n",
    "X = data.drop('W', axis=1)\n",
    "y = data['W']\n",
    "X_train, X_test, y_train, y_test = train_test_split(X, y, test_size=0.2, random_state=42)\n",
    "\n",
    "# Step 5: Model Building\n",
    "models = [\n",
    "    ('RandomForest', RandomForestRegressor()),\n",
    "    ('LinearRegression', LinearRegression())\n",
    "]\n",
    "\n",
    "# Step 6: Model Evaluation\n",
    "results = []\n",
    "for name, model in models:\n",
    "    pipeline = Pipeline([('scaler', StandardScaler()), (name, model)])\n",
    "    scores = cross_val_score(pipeline, X_train, y_train, cv=5, scoring='neg_mean_squared_error')\n",
    "    results.append((name, -scores.mean(), scores.std()))\n",
    "\n",
    "# Display the cross-validation results\n",
    "for name, mean_mse, std_mse in results:\n",
    "    print(f'{name}: Mean MSE: {mean_mse:.4f} (±{std_mse:.4f})')\n",
    "\n",
    "# Step 7: Hyperparameter Tuning (for RandomForest)\n",
    "param_grid = {\n",
    "    'RandomForest__n_estimators': [100, 200, 300],\n",
    "    'RandomForest__max_depth': [None, 10, 20],\n",
    "    'RandomForest__min_samples_split': [2, 5, 10]\n",
    "}\n",
    "\n",
    "rf_pipeline = Pipeline([('scaler', StandardScaler()), ('RandomForest', RandomForestRegressor())])\n",
    "grid_search = GridSearchCV(rf_pipeline, param_grid, cv=5, scoring='neg_mean_squared_error')\n",
    "grid_search.fit(X_train, y_train)\n",
    "\n",
    "best_model = grid_search.best_estimator_\n",
    "print(f'Best model parameters: {grid_search.best_params_}')\n",
    "print(f'Best model cross-validation Mean MSE: {grid_search.best_score_:.4f}')\n",
    "\n",
    "# Step 9: Final Model Selection\n",
    "# The best model is already selected during hyperparameter tuning.\n",
    "\n",
    "# Step 10: Save the Best Model for Production\n",
    "joblib.dump(best_model, 'best_model.pkl')\n"
   ]
  },
  {
   "cell_type": "code",
   "execution_count": null,
   "id": "91386a26",
   "metadata": {},
   "outputs": [],
   "source": []
  }
 ],
 "metadata": {
  "kernelspec": {
   "display_name": "Python 3 (ipykernel)",
   "language": "python",
   "name": "python3"
  },
  "language_info": {
   "codemirror_mode": {
    "name": "ipython",
    "version": 3
   },
   "file_extension": ".py",
   "mimetype": "text/x-python",
   "name": "python",
   "nbconvert_exporter": "python",
   "pygments_lexer": "ipython3",
   "version": "3.9.12"
  }
 },
 "nbformat": 4,
 "nbformat_minor": 5
}
