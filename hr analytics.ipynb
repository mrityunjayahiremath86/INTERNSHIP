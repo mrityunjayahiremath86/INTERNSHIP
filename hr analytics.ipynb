{
 "cells": [
  {
   "cell_type": "code",
   "execution_count": 3,
   "id": "86b4ecb0",
   "metadata": {},
   "outputs": [
    {
     "name": "stdout",
     "output_type": "stream",
     "text": [
      "Cross-validation Scores: [0.84745763 0.88085106 0.84255319 0.85106383 0.85531915]\n",
      "Mean CV Score: 0.8554489722322394\n"
     ]
    },
    {
     "data": {
      "text/plain": [
       "['best_model.pkl']"
      ]
     },
     "execution_count": 3,
     "metadata": {},
     "output_type": "execute_result"
    }
   ],
   "source": [
    "import pandas as pd\n",
    "from sklearn.model_selection import train_test_split\n",
    "from sklearn.ensemble import RandomForestClassifier\n",
    "from sklearn.metrics import accuracy_score, confusion_matrix, classification_report\n",
    "from sklearn.model_selection import cross_val_score, GridSearchCV\n",
    "import joblib\n",
    "\n",
    "# Step 1: Import the required libraries and data\n",
    "data_path = r\"C:\\Users\\Hiremath\\OneDrive\\Desktop\\WA_Fn-UseC_-HR-Employee-Attrition.csv\"\n",
    "data = pd.read_csv(data_path)\n",
    "\n",
    "# Step 2: Exploratory Data Analysis (EDA)\n",
    "# Perform EDA here to understand the data, check for missing values, data distributions, etc.\n",
    "\n",
    "# Step 3: Data Preprocessing and Feature Engineering\n",
    "data.drop(['EmployeeNumber'], axis=1, inplace=True)\n",
    "data['Attrition'] = data['Attrition'].map({'Yes': 1, 'No': 0})\n",
    "data = pd.get_dummies(data)\n",
    "X = data.drop(['Attrition'], axis=1)\n",
    "y = data['Attrition']\n",
    "X_train, X_test, y_train, y_test = train_test_split(X, y, test_size=0.2, random_state=42)\n",
    "\n",
    "# Step 4: Model Building and Testing (Random Forest Classifier)\n",
    "classification_model = RandomForestClassifier(random_state=42)\n",
    "classification_model.fit(X_train, y_train)\n",
    "y_pred = classification_model.predict(X_test)\n",
    "\n",
    "# Step 5: Evaluate the Model\n",
    "accuracy = accuracy_score(y_test, y_pred)\n",
    "conf_matrix = confusion_matrix(y_test, y_pred)\n",
    "classification_report_str = classification_report(y_test, y_pred)\n",
    "\n",
    "# Step 6: Check for Underfitting/Overfitting\n",
    "cv_scores = cross_val_score(classification_model, X_train, y_train, cv=5)\n",
    "print(\"Cross-validation Scores:\", cv_scores)\n",
    "print(\"Mean CV Score:\", cv_scores.mean())\n",
    "\n",
    "# Step 7: Hyperparameter Tuning (Optional)\n",
    "param_grid = {\n",
    "    'n_estimators': [100, 200, 300],\n",
    "    'max_depth': [None, 10, 20],\n",
    "    'min_samples_split': [2, 5, 10],\n",
    "    'min_samples_leaf': [1, 2, 4]\n",
    "}\n",
    "\n",
    "grid_search = GridSearchCV(classification_model, param_grid, cv=5)\n",
    "grid_search.fit(X_train, y_train)\n",
    "best_params = grid_search.best_params_\n",
    "best_model = grid_search.best_estimator_\n",
    "\n",
    "# Step 8: Save the Best Model\n",
    "joblib.dump(best_model, \"best_model.pkl\")\n"
   ]
  },
  {
   "cell_type": "code",
   "execution_count": null,
   "id": "0acc8d41",
   "metadata": {},
   "outputs": [],
   "source": []
  }
 ],
 "metadata": {
  "kernelspec": {
   "display_name": "Python 3 (ipykernel)",
   "language": "python",
   "name": "python3"
  },
  "language_info": {
   "codemirror_mode": {
    "name": "ipython",
    "version": 3
   },
   "file_extension": ".py",
   "mimetype": "text/x-python",
   "name": "python",
   "nbconvert_exporter": "python",
   "pygments_lexer": "ipython3",
   "version": "3.9.12"
  }
 },
 "nbformat": 4,
 "nbformat_minor": 5
}
