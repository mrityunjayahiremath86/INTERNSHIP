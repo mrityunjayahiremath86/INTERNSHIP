{
 "cells": [
  {
   "cell_type": "code",
   "execution_count": 28,
   "id": "42b7e93c",
   "metadata": {},
   "outputs": [
    {
     "name": "stdout",
     "output_type": "stream",
     "text": [
      "Primary Fuel Classification Accuracy: 0.978021978021978\n",
      "Capacity Prediction RMSE: 201.43911877723625\n"
     ]
    }
   ],
   "source": [
    "import pandas as pd\n",
    "from sklearn.model_selection import train_test_split\n",
    "from sklearn.preprocessing import LabelEncoder, StandardScaler\n",
    "from sklearn.compose import ColumnTransformer\n",
    "from sklearn.ensemble import RandomForestClassifier, RandomForestRegressor\n",
    "from sklearn.metrics import accuracy_score, mean_squared_error\n",
    "from sklearn.impute import SimpleImputer\n",
    "\n",
    "# Load the dataset\n",
    "data = pd.read_csv(\"C:/Users/Hiremath/OneDrive/Desktop/database_IND.csv\")\n",
    "\n",
    "# Step 1: Remove irrelevant columns\n",
    "irrelevant_columns = [\"name\", \"gppd_idnr\", \"latitude\", \"longitude\", \"other_fuel1\", \"other_fuel2\", \"other_fuel3\", \"owner\", \"source\", \"url\", \"geolocation_source\", \"wepp_id\", \"generation_data_source\", \"estimated_generation_gwh\"]\n",
    "data.drop(columns=irrelevant_columns, inplace=True)\n",
    "\n",
    "# Step 2: Handle missing values\n",
    "data.fillna(value={'other_fuel1': 'None', 'other_fuel2': 'None', 'other_fuel3': 'None'}, inplace=True)\n",
    "\n",
    "# Step 3: Feature Engineering\n",
    "data['age_of_plant'] = pd.to_datetime(data['year_of_capacity_data'], format='%Y').dt.year - data['commissioning_year']\n",
    "data['total_generation'] = data[['generation_gwh_2013', 'generation_gwh_2014', 'generation_gwh_2015',\n",
    "                                 'generation_gwh_2016', 'generation_gwh_2017', 'generation_gwh_2018',\n",
    "                                 'generation_gwh_2019']].sum(axis=1)\n",
    "\n",
    "# Step 4: Split data into features and targets\n",
    "X = data.drop(['capacity_mw'], axis=1)\n",
    "y_primary = data['primary_fuel']\n",
    "y_capacity = data['capacity_mw']\n",
    "\n",
    "# Step 5: Encode categorical variables using LabelEncoder\n",
    "encoder = LabelEncoder()\n",
    "X_encoded = X.copy()\n",
    "X_encoded['country'] = encoder.fit_transform(X['country'])\n",
    "X_encoded['country_long'] = encoder.fit_transform(X['country_long'])\n",
    "X_encoded['primary_fuel'] = encoder.fit_transform(X['primary_fuel'])\n",
    "\n",
    "# Step 6: Impute missing values\n",
    "imputer = SimpleImputer(strategy='mean')\n",
    "X_imputed = imputer.fit_transform(X_encoded)\n",
    "\n",
    "# Step 7: Split data into training and testing sets\n",
    "X_train, X_test, y_train_primary, y_test_primary, y_train_capacity, y_test_capacity = train_test_split(X_imputed, y_primary, y_capacity, test_size=0.2, random_state=42)\n",
    "\n",
    "# Step 8: Train models\n",
    "primary_model = RandomForestClassifier(random_state=42)\n",
    "capacity_model = RandomForestRegressor(random_state=42)\n",
    "\n",
    "primary_model.fit(X_train, y_train_primary)\n",
    "capacity_model.fit(X_train, y_train_capacity)\n",
    "\n",
    "# Step 9: Predictions\n",
    "y_pred_primary = primary_model.predict(X_test)\n",
    "y_pred_capacity = capacity_model.predict(X_test)\n",
    "\n",
    "# Step 10: Evaluate models\n",
    "primary_accuracy = accuracy_score(y_test_primary, y_pred_primary)\n",
    "capacity_rmse = mean_squared_error(y_test_capacity, y_pred_capacity, squared=False)\n",
    "\n",
    "print(\"Primary Fuel Classification Accuracy:\", primary_accuracy)\n",
    "print(\"Capacity Prediction RMSE:\", capacity_rmse)\n"
   ]
  },
  {
   "cell_type": "code",
   "execution_count": null,
   "id": "ffc6a54a",
   "metadata": {},
   "outputs": [],
   "source": []
  }
 ],
 "metadata": {
  "kernelspec": {
   "display_name": "Python 3 (ipykernel)",
   "language": "python",
   "name": "python3"
  },
  "language_info": {
   "codemirror_mode": {
    "name": "ipython",
    "version": 3
   },
   "file_extension": ".py",
   "mimetype": "text/x-python",
   "name": "python",
   "nbconvert_exporter": "python",
   "pygments_lexer": "ipython3",
   "version": "3.9.12"
  }
 },
 "nbformat": 4,
 "nbformat_minor": 5
}
