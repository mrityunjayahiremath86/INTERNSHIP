{
 "cells": [
  {
   "cell_type": "code",
   "execution_count": 15,
   "id": "203e1f5e",
   "metadata": {},
   "outputs": [
    {
     "name": "stdout",
     "output_type": "stream",
     "text": [
      "Classification Accuracy: 1.0\n",
      "Regression Mean Squared Error: 0.014574551342465745\n"
     ]
    }
   ],
   "source": [
    "import pandas as pd\n",
    "from sklearn.model_selection import train_test_split\n",
    "from sklearn.preprocessing import LabelEncoder\n",
    "from sklearn.ensemble import RandomForestClassifier, RandomForestRegressor\n",
    "from sklearn.metrics import accuracy_score, mean_squared_error\n",
    "\n",
    "# Step 1: Load the data\n",
    "data_path = r\"C:\\Users\\Hiremath\\OneDrive\\Desktop\\New folder\\05.08.2023 fliprobo\\2\\avocado.csv\"\n",
    "data = pd.read_csv(data_path)\n",
    "\n",
    "# Step 2: Exploratory Data Analysis (EDA) - if needed, perform data exploration here\n",
    "\n",
    "# Step 3: Preprocessing and Feature Engineering\n",
    "# Convert 'Date' column to pandas datetime\n",
    "data['Date'] = pd.to_datetime(data['Date'])\n",
    "\n",
    "# Extract year, month, and day as numerical features\n",
    "data['Year'] = data['Date'].dt.year\n",
    "data['Month'] = data['Date'].dt.month\n",
    "data['Day'] = data['Date'].dt.day\n",
    "\n",
    "# Drop the original 'Date' column as it's no longer needed\n",
    "data.drop('Date', axis=1, inplace=True)\n",
    "\n",
    "# Encode 'type' column to numerical values (0 for conventional, 1 for organic)\n",
    "label_encoder = LabelEncoder()\n",
    "data['type'] = label_encoder.fit_transform(data['type'])\n",
    "\n",
    "# One-hot encode the 'region' column\n",
    "data = pd.get_dummies(data, columns=['region'])\n",
    "\n",
    "# Step 4: Split the data into train and test sets\n",
    "X = data.drop(['AveragePrice'], axis=1)\n",
    "y_regression = data['AveragePrice']\n",
    "y_classification = data['type']\n",
    "\n",
    "X_train, X_test, y_train_regression, y_test_regression, y_train_classification, y_test_classification = \\\n",
    "    train_test_split(X, y_regression, y_classification, test_size=0.2, random_state=42)\n",
    "\n",
    "# Step 5: Model Building (Classification)\n",
    "classification_model = RandomForestClassifier()  # You can try other classifiers as well\n",
    "classification_model.fit(X_train, y_train_classification)\n",
    "\n",
    "# Step 6: Model Evaluation (Classification)\n",
    "y_pred_classification = classification_model.predict(X_test)\n",
    "classification_accuracy = accuracy_score(y_test_classification, y_pred_classification)\n",
    "print(\"Classification Accuracy:\", classification_accuracy)\n",
    "\n",
    "# Step 7: Model Building (Regression)\n",
    "regression_model = RandomForestRegressor()  # You can try other regression models as well\n",
    "regression_model.fit(X_train, y_train_regression)\n",
    "\n",
    "# Step 8: Model Evaluation (Regression)\n",
    "y_pred_regression = regression_model.predict(X_test)\n",
    "regression_mse = mean_squared_error(y_test_regression, y_pred_regression)\n",
    "print(\"Regression Mean Squared Error:\", regression_mse)\n",
    "\n",
    "# Save the best model for production\n",
    "# (You can choose the best model based on classification_accuracy and regression_mse)\n"
   ]
  },
  {
   "cell_type": "code",
   "execution_count": null,
   "id": "8f575e21",
   "metadata": {},
   "outputs": [],
   "source": []
  }
 ],
 "metadata": {
  "kernelspec": {
   "display_name": "Python 3 (ipykernel)",
   "language": "python",
   "name": "python3"
  },
  "language_info": {
   "codemirror_mode": {
    "name": "ipython",
    "version": 3
   },
   "file_extension": ".py",
   "mimetype": "text/x-python",
   "name": "python",
   "nbconvert_exporter": "python",
   "pygments_lexer": "ipython3",
   "version": "3.9.12"
  }
 },
 "nbformat": 4,
 "nbformat_minor": 5
}
