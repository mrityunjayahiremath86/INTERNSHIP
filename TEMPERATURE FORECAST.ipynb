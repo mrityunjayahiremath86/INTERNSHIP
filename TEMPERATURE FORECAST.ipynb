{
 "cells": [
  {
   "cell_type": "code",
   "execution_count": 5,
   "id": "eccc4c40",
   "metadata": {},
   "outputs": [
    {
     "name": "stdout",
     "output_type": "stream",
     "text": [
      "Max Temperature RMSE: 0.8097671189400242\n",
      "Min Temperature RMSE: 0.6323476349458291\n"
     ]
    }
   ],
   "source": [
    "import pandas as pd\n",
    "from sklearn.model_selection import train_test_split\n",
    "from sklearn.preprocessing import StandardScaler\n",
    "from sklearn.metrics import mean_squared_error\n",
    "import xgboost as xgb\n",
    "import numpy as np\n",
    "from sklearn.impute import SimpleImputer\n",
    "\n",
    "# Load the dataset\n",
    "file_path = \"C:\\\\Users\\\\Hiremath\\\\OneDrive\\\\Desktop\\\\temperature.csv\"\n",
    "data = pd.read_csv(file_path)\n",
    "\n",
    "# Convert 'Date' column to datetime with explicit format\n",
    "data['Date'] = pd.to_datetime(data['Date'], format='%d-%m-%Y')\n",
    "data['DayOfYear'] = data['Date'].dt.dayofyear\n",
    "data['Year'] = data['Date'].dt.year\n",
    "data.drop(['Date'], axis=1, inplace=True)  # Remove the original 'Date' column\n",
    "\n",
    "# Drop 'station' if not relevant for prediction\n",
    "data.drop(['station'], axis=1, inplace=True)\n",
    "\n",
    "# Handle missing and infinite values in target variables\n",
    "y_max = data['Next_Tmax']\n",
    "y_min = data['Next_Tmin']\n",
    "y_max.replace([np.inf, -np.inf], np.nan, inplace=True)\n",
    "y_min.replace([np.inf, -np.inf], np.nan, inplace=True)\n",
    "imputer = SimpleImputer(strategy='mean')\n",
    "y_max = imputer.fit_transform(y_max.values.reshape(-1, 1))\n",
    "y_min = imputer.fit_transform(y_min.values.reshape(-1, 1))\n",
    "\n",
    "# Split data into features (X) and target variables (y)\n",
    "X = data.drop(['Next_Tmax', 'Next_Tmin'], axis=1)\n",
    "\n",
    "# Split data into training and testing sets\n",
    "X_train, X_test, y_max_train, y_max_test, y_min_train, y_min_test = train_test_split(X, y_max, y_min, test_size=0.2, random_state=42)\n",
    "\n",
    "# Standardize the features\n",
    "scaler = StandardScaler()\n",
    "X_train_scaled = scaler.fit_transform(X_train)\n",
    "X_test_scaled = scaler.transform(X_test)\n",
    "\n",
    "# Build and train the Max Temperature model (XGBoost example)\n",
    "max_temp_model = xgb.XGBRegressor(objective='reg:squarederror', n_estimators=100)\n",
    "max_temp_model.fit(X_train_scaled, y_max_train)\n",
    "\n",
    "# Build and train the Min Temperature model (XGBoost example)\n",
    "min_temp_model = xgb.XGBRegressor(objective='reg:squarederror', n_estimators=100)\n",
    "min_temp_model.fit(X_train_scaled, y_min_train)\n",
    "\n",
    "# Make predictions\n",
    "max_temp_predictions = max_temp_model.predict(X_test_scaled)\n",
    "min_temp_predictions = min_temp_model.predict(X_test_scaled)\n",
    "\n",
    "# Evaluate the models\n",
    "max_temp_rmse = mean_squared_error(y_max_test, max_temp_predictions, squared=False)\n",
    "min_temp_rmse = mean_squared_error(y_min_test, min_temp_predictions, squared=False)\n",
    "\n",
    "print(f\"Max Temperature RMSE: {max_temp_rmse}\")\n",
    "print(f\"Min Temperature RMSE: {min_temp_rmse}\")\n"
   ]
  },
  {
   "cell_type": "code",
   "execution_count": null,
   "id": "ab8b2a16",
   "metadata": {},
   "outputs": [],
   "source": []
  }
 ],
 "metadata": {
  "kernelspec": {
   "display_name": "Python 3 (ipykernel)",
   "language": "python",
   "name": "python3"
  },
  "language_info": {
   "codemirror_mode": {
    "name": "ipython",
    "version": 3
   },
   "file_extension": ".py",
   "mimetype": "text/x-python",
   "name": "python",
   "nbconvert_exporter": "python",
   "pygments_lexer": "ipython3",
   "version": "3.9.12"
  }
 },
 "nbformat": 4,
 "nbformat_minor": 5
}
